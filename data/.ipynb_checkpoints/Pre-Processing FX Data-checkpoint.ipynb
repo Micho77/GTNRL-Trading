{
 "cells": [
  {
   "cell_type": "markdown",
   "metadata": {},
   "source": [
    "# Pre-Processing FX Risk Premia Data"
   ]
  },
  {
   "cell_type": "code",
   "execution_count": 4,
   "metadata": {},
   "outputs": [],
   "source": [
    "import pandas as pd\n",
    "import numpy as np"
   ]
  },
  {
   "cell_type": "markdown",
   "metadata": {},
   "source": [
    "# 1. Carry Returns Data"
   ]
  },
  {
   "cell_type": "code",
   "execution_count": 12,
   "metadata": {},
   "outputs": [
    {
     "data": {
      "text/html": [
       "<div>\n",
       "<style scoped>\n",
       "    .dataframe tbody tr th:only-of-type {\n",
       "        vertical-align: middle;\n",
       "    }\n",
       "\n",
       "    .dataframe tbody tr th {\n",
       "        vertical-align: top;\n",
       "    }\n",
       "\n",
       "    .dataframe thead th {\n",
       "        text-align: right;\n",
       "    }\n",
       "</style>\n",
       "<table border=\"1\" class=\"dataframe\">\n",
       "  <thead>\n",
       "    <tr style=\"text-align: right;\">\n",
       "      <th></th>\n",
       "      <th>EURUSD</th>\n",
       "      <th>GBPUSD</th>\n",
       "      <th>USDJPY</th>\n",
       "      <th>AUDUSD</th>\n",
       "      <th>NZDUSD</th>\n",
       "      <th>USDCAD</th>\n",
       "      <th>USDCHF</th>\n",
       "      <th>USDNOK</th>\n",
       "      <th>USDSEK</th>\n",
       "    </tr>\n",
       "  </thead>\n",
       "  <tbody>\n",
       "    <tr>\n",
       "      <th>2000-01-03 00:00:00</th>\n",
       "      <td>84.7247</td>\n",
       "      <td>98.6827</td>\n",
       "      <td>93.9995</td>\n",
       "      <td>107.4905</td>\n",
       "      <td>98.5725</td>\n",
       "      <td>94.6431</td>\n",
       "      <td>118.6139</td>\n",
       "      <td>102.6109</td>\n",
       "      <td>105.3244</td>\n",
       "    </tr>\n",
       "    <tr>\n",
       "      <th>2000-01-04 00:00:00</th>\n",
       "      <td>85.1545</td>\n",
       "      <td>98.6710</td>\n",
       "      <td>95.6610</td>\n",
       "      <td>106.9175</td>\n",
       "      <td>97.5191</td>\n",
       "      <td>95.0386</td>\n",
       "      <td>117.8988</td>\n",
       "      <td>103.3723</td>\n",
       "      <td>105.3880</td>\n",
       "    </tr>\n",
       "  </tbody>\n",
       "</table>\n",
       "</div>"
      ],
      "text/plain": [
       "                      EURUSD   GBPUSD   USDJPY    AUDUSD   NZDUSD   USDCAD  \\\n",
       "2000-01-03 00:00:00  84.7247  98.6827  93.9995  107.4905  98.5725  94.6431   \n",
       "2000-01-04 00:00:00  85.1545  98.6710  95.6610  106.9175  97.5191  95.0386   \n",
       "\n",
       "                       USDCHF    USDNOK    USDSEK  \n",
       "2000-01-03 00:00:00  118.6139  102.6109  105.3244  \n",
       "2000-01-04 00:00:00  117.8988  103.3723  105.3880  "
      ]
     },
     "execution_count": 12,
     "metadata": {},
     "output_type": "execute_result"
    }
   ],
   "source": [
    "crs = pd.read_excel('FX Risk Premia Data.xlsx', 'CR', index_col=0, header=3).iloc[3:]\n",
    "crs.sort_index(inplace=True)\n",
    "crs = crs.astype(float)\n",
    "crs.columns = ['EURUSD', 'GBPUSD', 'USDJPY', 'AUDUSD', 'NZDUSD', 'USDCAD', 'USDCHF', 'USDNOK', 'USDSEK']\n",
    "\n",
    "crs.head(2)"
   ]
  },
  {
   "cell_type": "code",
   "execution_count": 15,
   "metadata": {},
   "outputs": [
    {
     "data": {
      "text/html": [
       "<div>\n",
       "<style scoped>\n",
       "    .dataframe tbody tr th:only-of-type {\n",
       "        vertical-align: middle;\n",
       "    }\n",
       "\n",
       "    .dataframe tbody tr th {\n",
       "        vertical-align: top;\n",
       "    }\n",
       "\n",
       "    .dataframe thead th {\n",
       "        text-align: right;\n",
       "    }\n",
       "</style>\n",
       "<table border=\"1\" class=\"dataframe\">\n",
       "  <thead>\n",
       "    <tr style=\"text-align: right;\">\n",
       "      <th></th>\n",
       "      <th>EURUSD</th>\n",
       "      <th>GBPUSD</th>\n",
       "      <th>USDJPY</th>\n",
       "      <th>AUDUSD</th>\n",
       "      <th>NZDUSD</th>\n",
       "      <th>USDCAD</th>\n",
       "      <th>USDCHF</th>\n",
       "      <th>USDNOK</th>\n",
       "      <th>USDSEK</th>\n",
       "    </tr>\n",
       "  </thead>\n",
       "  <tbody>\n",
       "    <tr>\n",
       "      <th>2000-01-03 00:00:00</th>\n",
       "      <td>0.00000</td>\n",
       "      <td>0.000000</td>\n",
       "      <td>0.000000</td>\n",
       "      <td>0.000000</td>\n",
       "      <td>0.000000</td>\n",
       "      <td>0.00000</td>\n",
       "      <td>0.000000</td>\n",
       "      <td>0.000000</td>\n",
       "      <td>0.000000</td>\n",
       "    </tr>\n",
       "    <tr>\n",
       "      <th>2000-01-04 00:00:00</th>\n",
       "      <td>0.00506</td>\n",
       "      <td>-0.000119</td>\n",
       "      <td>0.017521</td>\n",
       "      <td>-0.005345</td>\n",
       "      <td>-0.010744</td>\n",
       "      <td>0.00417</td>\n",
       "      <td>-0.006047</td>\n",
       "      <td>0.007393</td>\n",
       "      <td>0.000604</td>\n",
       "    </tr>\n",
       "  </tbody>\n",
       "</table>\n",
       "</div>"
      ],
      "text/plain": [
       "                      EURUSD    GBPUSD    USDJPY    AUDUSD    NZDUSD   USDCAD  \\\n",
       "2000-01-03 00:00:00  0.00000  0.000000  0.000000  0.000000  0.000000  0.00000   \n",
       "2000-01-04 00:00:00  0.00506 -0.000119  0.017521 -0.005345 -0.010744  0.00417   \n",
       "\n",
       "                       USDCHF    USDNOK    USDSEK  \n",
       "2000-01-03 00:00:00  0.000000  0.000000  0.000000  \n",
       "2000-01-04 00:00:00 -0.006047  0.007393  0.000604  "
      ]
     },
     "execution_count": 15,
     "metadata": {},
     "output_type": "execute_result"
    }
   ],
   "source": [
    "rs = crs.apply(np.log).diff(1).fillna(0)\n",
    "\n",
    "rs.head(2)"
   ]
  },
  {
   "cell_type": "code",
   "execution_count": 19,
   "metadata": {},
   "outputs": [],
   "source": [
    "rs.to_csv('g10_daily_carry_rs_2000_2019.csv')"
   ]
  },
  {
   "cell_type": "markdown",
   "metadata": {},
   "source": [
    "# 2. Graph Data\n",
    "\n",
    "<font color=red> Make sure that the timing lines up"
   ]
  },
  {
   "cell_type": "code",
   "execution_count": null,
   "metadata": {},
   "outputs": [],
   "source": []
  }
 ],
 "metadata": {
  "kernelspec": {
   "display_name": "Python 3",
   "language": "python",
   "name": "python3"
  },
  "language_info": {
   "codemirror_mode": {
    "name": "ipython",
    "version": 3
   },
   "file_extension": ".py",
   "mimetype": "text/x-python",
   "name": "python",
   "nbconvert_exporter": "python",
   "pygments_lexer": "ipython3",
   "version": "3.7.7"
  }
 },
 "nbformat": 4,
 "nbformat_minor": 4
}
